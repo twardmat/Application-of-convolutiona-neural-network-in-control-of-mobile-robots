{
 "cells": [
  {
   "cell_type": "markdown",
   "id": "fcb655a0",
   "metadata": {},
   "source": [
    "# Import libraries"
   ]
  },
  {
   "cell_type": "code",
   "execution_count": 2,
   "id": "9635cd29",
   "metadata": {},
   "outputs": [],
   "source": [
    "import cv2      # Import opencv\n",
    "import uuid     # Import uuid\n",
    "import os       # Import Operating System\n",
    "import time     # Import time   "
   ]
  },
  {
   "cell_type": "markdown",
   "id": "40ec64d4",
   "metadata": {},
   "source": [
    "# Images Collection"
   ]
  },
  {
   "cell_type": "code",
   "execution_count": null,
   "id": "1e6a3e79",
   "metadata": {},
   "outputs": [],
   "source": [
    "# Define Images to Collect\n",
    "\n",
    "###########################################\n",
    "# labels of collected images and its amount\n",
    "labels = ['Hydrant', 'FireExtinguisher', 'MedicalKit', 'Stairs', 'Ambulance', 'AED', 'Car',\n",
    "          'Bike', 'Doors', 'Stretcher']\n",
    "number_imgs = 10\n",
    "##########################################3\n",
    "\n",
    "IMAGES_PATH = os.path.join('Tensorflow', 'workspace', 'images', 'collectedimages')\n",
    "\n",
    "#Creating path to the folder with pic\n",
    "if not os.path.exists(IMAGES_PATH):\n",
    "    if os.name == 'nt':\n",
    "        !mkdir {IMAGES_PATH}\n",
    "    else\n",
    "        print(\"os.name is not 'nt' (not windows)\")\n",
    "for label in labels:\n",
    "    path = os.path.join(IMAGES_PATH, label)\n",
    "    if not os.path.exists(path):\n",
    "        !mkdir {path}\n",
    "\n",
    "#Capture Images\n",
    "\n",
    "for label in labels:\n",
    "    cap = cv2.VideoCapture(0)        #connects with webcam!!!!!!!!!!!\n",
    "    print('Collecting images for {}'.format(label))\n",
    "    time.sleep(6)\n",
    "    for imgnum in range(number_imgs):\n",
    "        print('Collecting image {}'.format(imgnum))\n",
    "        ret, frame = cap.read()\n",
    "        imgname = os.path.join(IMAGES_PATH,label,label+'.'+'{}.jpg'.format(str(uuid.uuid1())))\n",
    "        cv2.imwrite(imgname, frame)\n",
    "        cv2.imshow('frame', frame)\n",
    "        time.sleep(3)\n",
    "\n",
    "        if cv2.waitKey(1) & 0xFF == ord('q'):\n",
    "            break\n",
    "cap.release()\n",
    "cv2.destroyAllWindows()"
   ]
  },
  {
   "cell_type": "markdown",
   "id": "ce26d006",
   "metadata": {},
   "source": [
    "# Image Labelling"
   ]
  },
  {
   "cell_type": "code",
   "execution_count": null,
   "id": "c8bd4621",
   "metadata": {},
   "outputs": [],
   "source": [
    "#it is necessary to install labelIMG from github first!!!!!!!!!!!!!!!!!!!!!!!!\n",
    "# https://github.com/tzutalin/labelImg\n",
    "\n",
    "import os\n",
    "LABELIMG_PATH = os.path.join('Tensorflow', 'labelimg')\n",
    "\n",
    "'''import PyQt5\n",
    "pyqt = os.path.dirname(PyQt5.__file__)\n",
    "os.environ['QT_PLUGIN_PATH'] = os.path.join(pyqt, \"Qt/plugins\")\n",
    "type(QT_PLUGIN_PATH)\n",
    "'''\n",
    "!cd {LABELIMG_PATH} && python labelImg.py \n",
    "# here was an issue, which was resolved by copying some dlls to other place (sth with scripts and tutorials?)"
   ]
  },
  {
   "cell_type": "markdown",
   "id": "4fb75e95",
   "metadata": {},
   "source": [
    "# Move pictures manually into a Training and Testing Partition"
   ]
  }
 ],
 "metadata": {
  "kernelspec": {
   "display_name": "tfod",
   "language": "python",
   "name": "tfod"
  },
  "language_info": {
   "codemirror_mode": {
    "name": "ipython",
    "version": 3
   },
   "file_extension": ".py",
   "mimetype": "text/x-python",
   "name": "python",
   "nbconvert_exporter": "python",
   "pygments_lexer": "ipython3",
   "version": "3.7.7"
  }
 },
 "nbformat": 4,
 "nbformat_minor": 5
}
