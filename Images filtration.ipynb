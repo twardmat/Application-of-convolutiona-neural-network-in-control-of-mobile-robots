{
 "cells": [
  {
   "cell_type": "markdown",
   "id": "0fc8fc98",
   "metadata": {},
   "source": [
    "# Images filtration\n",
    "### Images that were gathered through WebScraping usally contains some pictures that are not valid for training (eg. not JPG format or other than 24-bit RGB color system)"
   ]
  },
  {
   "cell_type": "code",
   "execution_count": null,
   "id": "63244e7f",
   "metadata": {},
   "outputs": [],
   "source": [
    "def is_image(filename, verbose=False):\n",
    "\n",
    "    data = open(filename,'rb').read(10)\n",
    "\n",
    "    # check if file is JPG or JPEG\n",
    "    if data[:3] == b'\\xff\\xd8\\xff':\n",
    "        if verbose == True:\n",
    "             print(filename+\" is: JPG/JPEG.\")\n",
    "        return True\n",
    "\n",
    "    # check if file is PNG\n",
    "    if data[:8] == b'\\x89\\x50\\x4e\\x47\\x0d\\x0a\\x1a\\x0a':\n",
    "        if verbose == True:\n",
    "             print(filename+\" is: PNG.\")\n",
    "        return True\n",
    "\n",
    "    # check if file is GIF\n",
    "    if data[:6] in [b'\\x47\\x49\\x46\\x38\\x37\\x61', b'\\x47\\x49\\x46\\x38\\x39\\x61']:\n",
    "        if verbose == True:\n",
    "             print(filename+\" is: GIF.\")\n",
    "        return True\n",
    "\n",
    "    return False"
   ]
  },
  {
   "cell_type": "code",
   "execution_count": null,
   "id": "ba44c261",
   "metadata": {},
   "outputs": [],
   "source": [
    "import os\n",
    "\n",
    "folder = \"train_to_clear\"\n",
    "#folder = \"Tensorflow/workspace/images/test\"\n",
    "#os.path.join('Tensorflow', 'workspace', 'images', 'test')\n",
    "\n",
    "print (folder)\n",
    "# go through all files in desired folder\n",
    "for filename in os.listdir(folder):\n",
    "    # check if file is actually an image file\n",
    "    is_image(filename, verbose = True)\n",
    "    \n",
    "    #if is_image(filename, verbose=False) == False:\n",
    "        # if the file is not valid, remove it\n",
    "        #os.remove(os. path. join(folder, filename))"
   ]
  },
  {
   "cell_type": "code",
   "execution_count": null,
   "id": "564b8f01",
   "metadata": {},
   "outputs": [],
   "source": [
    "folder = \"train_to_clear\"\n",
    "#folder = \"Tensorflow/workspace/images/train\"\n",
    "(os.listdir(folder))\n",
    "#print(os.path.abspath(folder))"
   ]
  },
  {
   "cell_type": "code",
   "execution_count": 15,
   "id": "79b4db5c",
   "metadata": {},
   "outputs": [
    {
     "name": "stdout",
     "output_type": "stream",
     "text": [
      "0 0\n"
     ]
    }
   ],
   "source": [
    "from pathlib import Path\n",
    "import imghdr\n",
    "\n",
    "data_dir = 'Tensorflow\\workspace\\images\\\\train'\n",
    "image_extensions = [\".png\", \".jpg\"]  # add there all your images file extensions\n",
    "ni = 0\n",
    "na = 0\n",
    "img_type_accepted_by_tf = [\"bmp\", \"gif\", \"jpeg\", \"png\"]\n",
    "for filepath in Path(data_dir).rglob(\"*\"):\n",
    "    if filepath.suffix.lower() in image_extensions:\n",
    "        img_type = imghdr.what(filepath)\n",
    "        if img_type is None:\n",
    "            print(f\"{filepath} is not an image\")\n",
    "            ni+=1\n",
    "            #!move {filepath} {'Tensorflow\\workspace\\images\\corrupted'}\n",
    "            #!move {PRETRAINED_MODEL_NAME+'.tar.gz'} {paths['PRETRAINED_MODEL_PATH']}\n",
    "        elif img_type not in img_type_accepted_by_tf:\n",
    "            print(f\"{filepath} is a {img_type}, not accepted by TensorFlow\")\n",
    "            na+=1\n",
    "            #!move {filepath} {'Tensorflow\\workspace\\images\\corrupted'}\n",
    "\n",
    "print(na, ni)"
   ]
  },
  {
   "cell_type": "markdown",
   "id": "3c49e81c",
   "metadata": {},
   "source": [
    "# Check for corrupted files\n",
    "### Files that are not JPG"
   ]
  },
  {
   "cell_type": "code",
   "execution_count": 8,
   "id": "73b17161",
   "metadata": {},
   "outputs": [
    {
     "name": "stdout",
     "output_type": "stream",
     "text": [
      "0 0\n"
     ]
    }
   ],
   "source": [
    "from pathlib import Path\n",
    "import imghdr\n",
    "import filecmp\n",
    "\n",
    "data_dir = 'Tensorflow\\workspace\\images\\\\train'\n",
    "xml_dir = 'Tensorflow\\workspace\\images\\\\XML'\n",
    "image_extensions = [\".png\", \".jpg\"]  # add there all your images file extensions\n",
    "ni = 0\n",
    "na = 0\n",
    "img_type_accepted_by_tf = [\"bmp\", \"gif\", \"jpeg\", \"png\"]\n",
    "for filepath in Path(xml_dir).rglob(\"*\"):\n",
    "    if filepath.suffix.lower() in image_extensions:\n",
    "        img_type = imghdr.what(filepath)\n",
    "        filecmp.cmp(filepath) \n",
    "        if img_type is None:\n",
    "            print(f\"{filepath} is not an image\")\n",
    "            ni+=1\n",
    "            #!move {filepath} {'Tensorflow\\workspace\\images\\corrupted'}\n",
    "            #!move {PRETRAINED_MODEL_NAME+'.tar.gz'} {paths['PRETRAINED_MODEL_PATH']}\n",
    "        elif img_type not in img_type_accepted_by_tf:\n",
    "            print(f\"{filepath} is a {img_type}, not accepted by TensorFlow\")\n",
    "            na+=1\n",
    "            #!move {filepath} {'Tensorflow\\workspace\\images\\corrupted'}\n",
    "\n",
    "print(na, ni)"
   ]
  },
  {
   "cell_type": "markdown",
   "id": "7e259d54",
   "metadata": {},
   "source": [
    "# Check for not RGB files in path folder"
   ]
  },
  {
   "cell_type": "code",
   "execution_count": 5,
   "id": "51035389",
   "metadata": {},
   "outputs": [],
   "source": [
    "from PIL import Image     \n",
    "import os       \n",
    "\n",
    "nRGBlist = []\n",
    "path = 'Tensorflow\\workspace\\images\\\\test\\\\' \n",
    "for file in os.listdir(path):      \n",
    "    extension = file.split('.')[-1]\n",
    "    if extension == 'jpg':\n",
    "        fileLoc = path+file\n",
    "        img = Image.open(fileLoc)\n",
    "        if img.mode != 'RGB':\n",
    "            print(file+', '+img.mode)\n",
    "            nRGBlist += [os.path.splitext(file)[0]]"
   ]
  },
  {
   "cell_type": "markdown",
   "id": "1eb47b7e",
   "metadata": {},
   "source": [
    "# Delete non RGB files"
   ]
  },
  {
   "cell_type": "code",
   "execution_count": 4,
   "id": "8906c0da",
   "metadata": {},
   "outputs": [],
   "source": [
    "#print(nRGBlist)\n",
    "\n",
    "path = 'Tensorflow\\workspace\\images\\\\test\\\\'\n",
    "for file in os.listdir(path):\n",
    "    for invalidFile in nRGBlist:\n",
    "        if invalidFile in file:\n",
    "            \n",
    "            os.remove(os.path.join(path, file))\n",
    "            #try:\n",
    "                \n",
    "            #except:\n",
    "            #    print(\"Error while deleting file : \", file)\n",
    "   \n",
    "\n",
    "\n",
    "            \n",
    "# for filePath in fileList:\n",
    "#     try:\n",
    "#         os.remove(filePath)\n",
    "#     except:\n",
    "#         print(\"Error while deleting file : \", filePath)"
   ]
  },
  {
   "cell_type": "code",
   "execution_count": 6,
   "id": "718c6ac8",
   "metadata": {},
   "outputs": [
    {
     "name": "stdout",
     "output_type": "stream",
     "text": [
      "[]\n"
     ]
    }
   ],
   "source": [
    "print(nRGBlist)"
   ]
  },
  {
   "cell_type": "code",
   "execution_count": null,
   "id": "1dadeb08",
   "metadata": {},
   "outputs": [],
   "source": []
  }
 ],
 "metadata": {
  "kernelspec": {
   "display_name": "tfod",
   "language": "python",
   "name": "tfod"
  },
  "language_info": {
   "codemirror_mode": {
    "name": "ipython",
    "version": 3
   },
   "file_extension": ".py",
   "mimetype": "text/x-python",
   "name": "python",
   "nbconvert_exporter": "python",
   "pygments_lexer": "ipython3",
   "version": "3.7.7"
  }
 },
 "nbformat": 4,
 "nbformat_minor": 5
}
